{
 "cells": [
  {
   "cell_type": "code",
   "execution_count": 1,
   "metadata": {
    "collapsed": true
   },
   "outputs": [],
   "source": [
    "import ast\n",
    "from collections import Counter, defaultdict\n",
    "import csv\n",
    "import datetime\n",
    "import itertools\n",
    "import math\n",
    "import numpy\n",
    "import matplotlib.pyplot as plt\n",
    "import pandas\n",
    "from scipy import optimize, stats\n",
    "\n",
    "%matplotlib inline"
   ]
  },
  {
   "cell_type": "markdown",
   "metadata": {},
   "source": [
    "I've put the data in tab-separated format. Parsing most of the fields is straightforward, except for `coins`. That field is a string that can be parsed as a JSON or Python list of numbers, and it represents the individual coins that I found that day."
   ]
  },
  {
   "cell_type": "code",
   "execution_count": 2,
   "metadata": {
    "collapsed": true
   },
   "outputs": [],
   "source": [
    "def load_data(filename):\n",
    "    columns = defaultdict(list)\n",
    "    with open(filename) as f:\n",
    "        reader = csv.DictReader(f, delimiter='\\t')\n",
    "        for row in reader:\n",
    "            row['distance'] = float(row['distance'])\n",
    "            row['money'] = float(row['money'])\n",
    "            row['date'] = datetime.datetime.strptime(row['date'], '%Y-%m-%d')\n",
    "            pace_min, pace_sec = row['pace'].split(':')\n",
    "            row['pace'] = int(pace_min) + float(pace_sec) / 60\n",
    "            row['coins'] = ast.literal_eval(row['coins'])\n",
    "            row['n_coins'] = len(row['coins'])\n",
    "            for column, value in row.items():\n",
    "                columns[column].append(value)\n",
    "    return columns"
   ]
  },
  {
   "cell_type": "code",
   "execution_count": 3,
   "metadata": {
    "collapsed": true
   },
   "outputs": [],
   "source": [
    "df = pandas.DataFrame(load_data(\"data.csv\"))"
   ]
  },
  {
   "cell_type": "markdown",
   "metadata": {},
   "source": [
    "Some basic info"
   ]
  },
  {
   "cell_type": "code",
   "execution_count": 4,
   "metadata": {},
   "outputs": [
    {
     "name": "stdout",
     "output_type": "stream",
     "text": [
      "Found: $0.88\n",
      "Ran: 128.3 miles\n"
     ]
    }
   ],
   "source": [
    "print('Found: ${:0.2f}'.format(df['money'].sum()))\n",
    "print('Ran: {:0.1f} miles'.format(df['distance'].sum()))"
   ]
  },
  {
   "cell_type": "markdown",
   "metadata": {},
   "source": [
    "First, count how many of each type of coin I found"
   ]
  },
  {
   "cell_type": "code",
   "execution_count": 5,
   "metadata": {},
   "outputs": [
    {
     "name": "stdout",
     "output_type": "stream",
     "text": [
      "{'nickel': 2, 'penny': 18, 'dime': 6}\n"
     ]
    }
   ],
   "source": [
    "coin_counts = Counter(itertools.chain(*df['coins']))\n",
    "coin_types = {1: 'penny', 5: 'nickel', 10: 'dime', 25: 'quarter'}\n",
    "print({coin_types[coin]: count for coin, count in coin_counts.items()})"
   ]
  },
  {
   "cell_type": "markdown",
   "metadata": {},
   "source": [
    "And how many times I got each count for 4-ish mile runs"
   ]
  },
  {
   "cell_type": "code",
   "execution_count": 6,
   "metadata": {},
   "outputs": [
    {
     "name": "stdout",
     "output_type": "stream",
     "text": [
      "0    0.833333\n",
      "4    0.083333\n",
      "3    0.083333\n",
      "Name: n_coins, dtype: float64\n"
     ]
    }
   ],
   "source": [
    "four_mile_runs = df.loc[df['distance'].between(3.5, 4.5)]\n",
    "print(four_mile_runs['n_coins'].value_counts() / len(four_mile_runs['n_coins']))"
   ]
  },
  {
   "cell_type": "markdown",
   "metadata": {},
   "source": [
    "Create a scatter plot showing how much money I found on each day of the month, normalized for distance. This helps illustrate how much variance there was run-to-run."
   ]
  },
  {
   "cell_type": "code",
   "execution_count": 7,
   "metadata": {},
   "outputs": [
    {
     "data": {
      "text/plain": [
       "<matplotlib.text.Text at 0x107e8e860>"
      ]
     },
     "execution_count": 7,
     "metadata": {},
     "output_type": "execute_result"
    },
    {
     "data": {
      "image/png": "[encoded data removed]",
      "text/plain": [
       "<matplotlib.figure.Figure at 0x107e79358>"
      ]
     },
     "metadata": {},
     "output_type": "display_data"
    }
   ],
   "source": [
    "def xy_for_dates(dates):\n",
    "    \"\"\" Convert dates to arrays of x and y coordinates\n",
    "        that resemble a calendar\n",
    "    \"\"\"\n",
    "    MONTH_STARTS_AT = (1, 4)\n",
    "    date_delta = numpy.array([_.days for _ in(dates - dates.min())])\n",
    "    xs = (MONTH_STARTS_AT[0] + date_delta) % 7\n",
    "    ys = MONTH_STARTS_AT[1] - (date_delta // 7)\n",
    "    return xs, ys\n",
    "\n",
    "calendar_points = xy_for_dates(df['date'])\n",
    "plt.scatter(calendar_points[0], calendar_points[1], s=24000*df['money']/df['distance'])\n",
    "plt.yticks(range(5), '54321')\n",
    "plt.ylabel('Week')\n",
    "plt.xticks(range(7), 'SMTWTFS')\n",
    "plt.xlabel('Day of Week')"
   ]
  },
  {
   "cell_type": "markdown",
   "metadata": {},
   "source": [
    "Compute some statistics about the amount of money I found."
   ]
  },
  {
   "cell_type": "code",
   "execution_count": 8,
   "metadata": {},
   "outputs": [
    {
     "name": "stdout",
     "output_type": "stream",
     "text": [
      "Naive cents per mile: 0.006858924395946999\n",
      "Mean cents per mile: 0.006239611609959081\n",
      "Std dev cents per mile: 0.012980262101722092\n",
      "Error on mean cents per mile: ±0.0004475952448869687\n"
     ]
    }
   ],
   "source": [
    "mean_money = (df['money']/df['distance']).mean()\n",
    "std_money = (df['money']/df['distance']).std()\n",
    "err_on_mean_money = std_money/len(df)\n",
    "print('Naive cents per mile: {}'.format(df['money'].sum()/df['distance'].sum()))\n",
    "print('Mean cents per mile: {}'.format(mean_money))\n",
    "print('Std dev cents per mile: {}'.format(std_money))\n",
    "print('Error on mean cents per mile: ±{}'.format(err_on_mean_money))"
   ]
  },
  {
   "cell_type": "markdown",
   "metadata": {},
   "source": [
    "Compute some statistics about the number of coins I found."
   ]
  },
  {
   "cell_type": "code",
   "execution_count": 9,
   "metadata": {},
   "outputs": [
    {
     "name": "stdout",
     "output_type": "stream",
     "text": [
      "Naive coins per mile: 0.20265003897116132\n",
      "Mean coins per mile: 0.183297657832405\n",
      "Std dev coins per mile: 0.3158796899802083\n",
      "Error on mean cents per mile: ±0.010892403102765805\n"
     ]
    }
   ],
   "source": [
    "mean_coins = (df['n_coins']/df['distance']).mean()\n",
    "std_coins = (df['n_coins']/df['distance']).std()\n",
    "err_on_mean_coins = std_coins/len(df)\n",
    "print('Naive coins per mile: {}'.format(df['n_coins'].sum()/df['distance'].sum()))\n",
    "print('Mean coins per mile: {}'.format(mean_coins))\n",
    "print('Std dev coins per mile: {}'.format(std_coins))\n",
    "print('Error on mean cents per mile: ±{}'.format(err_on_mean_coins))"
   ]
  },
  {
   "cell_type": "markdown",
   "metadata": {},
   "source": [
    "If I just look at mean and standard deviation, that's misleading. I shouldn't ever be finding negative money."
   ]
  },
  {
   "cell_type": "code",
   "execution_count": 10,
   "metadata": {},
   "outputs": [
    {
     "data": {
      "text/plain": [
       "<matplotlib.text.Text at 0x107f3f1d0>"
      ]
     },
     "execution_count": 10,
     "metadata": {},
     "output_type": "execute_result"
    },
    {
     "data": {
      "image/png": "[encoded data removed]",
      "text/plain": [
       "<matplotlib.figure.Figure at 0x107e606d8>"
      ]
     },
     "metadata": {},
     "output_type": "display_data"
    }
   ],
   "source": [
    "norm = stats.norm(loc=mean_money, scale=std_money)\n",
    "pdf_x = numpy.linspace(norm.ppf(0.001), norm.ppf(0.999))\n",
    "pdf_y = norm.pdf(pdf_x)\n",
    "plt.plot(pdf_x, pdf_y, 'b-')\n",
    "plt.plot([0, 0], [0, pdf_y.max()], 'k:')\n",
    "plt.xlabel('cents per mile')"
   ]
  },
  {
   "cell_type": "code",
   "execution_count": 11,
   "metadata": {},
   "outputs": [
    {
     "name": "stdout",
     "output_type": "stream",
     "text": [
      "Lose money 31.5% of the time\n"
     ]
    }
   ],
   "source": [
    "lose_money_percent = 100 * norm.cdf(0)\n",
    "print('Lose money {:0.1f}% of the time'.format(lose_money_percent))"
   ]
  },
  {
   "cell_type": "markdown",
   "metadata": {},
   "source": [
    "The maximum likelihood fit for the Poisson distribution should be the same the mean naive coins per mile above."
   ]
  },
  {
   "cell_type": "code",
   "execution_count": 12,
   "metadata": {},
   "outputs": [
    {
     "name": "stdout",
     "output_type": "stream",
     "text": [
      "Maximum likelihood fit coins/mile:\n",
      "      fun: 24.705554171137617\n",
      " hess_inv: array([[ 0.00157972]])\n",
      "      jac: array([ -9.53674316e-07])\n",
      "  message: 'Optimization terminated successfully.'\n",
      "     nfev: 18\n",
      "      nit: 3\n",
      "     njev: 6\n",
      "   status: 0\n",
      "  success: True\n",
      "        x: array([ 0.20265003])\n",
      "Compare to mean coins/mile: 0.183297657832405\n",
      "Compare to naive coins/mile: 0.20265003897116132\n"
     ]
    }
   ],
   "source": [
    "def poisson_nll(l, d, n):\n",
    "    return -numpy.log(stats.poisson.pmf(n, d * l)).sum()\n",
    "\n",
    "def poisson_nll_simple(l, d, n):\n",
    "    return (l * d).sum() - (n * numpy.log(l * d)).sum()\n",
    "\n",
    "res = optimize.minimize(poisson_nll_simple, [mean_coins], args=(df['distance'], df['n_coins']))\n",
    "print('Maximum likelihood fit coins/mile:')\n",
    "print(res)\n",
    "print('Compare to mean coins/mile: {}'.format(mean_coins))\n",
    "print('Compare to naive coins/mile: {}'.format(df['n_coins'].sum()/df['distance'].sum()))"
   ]
  },
  {
   "cell_type": "markdown",
   "metadata": {},
   "source": [
    "Scan the parameter to find a confidence interval."
   ]
  },
  {
   "cell_type": "code",
   "execution_count": 13,
   "metadata": {},
   "outputs": [
    {
     "name": "stdout",
     "output_type": "stream",
     "text": [
      "Confidence interval: (0.13234287724296775, 0.29363575876095965)\n",
      "Cents per mile: 0.20265003072516935 +0.0909857280357903/-0.0703071534822016\n"
     ]
    }
   ],
   "source": [
    "lambda_best = res.x[0]\n",
    "nll_at_best = res.fun\n",
    "\n",
    "# confidence_level = stats.chi2.cdf(1, df=1)  # 68.3%\n",
    "confidence_level = 0.95\n",
    "\n",
    "delta_chi_sq = stats.chi2.ppf(confidence_level, df=1)\n",
    "delta_nll = 0.5 * delta_chi_sq\n",
    "\n",
    "lambda_lo = 0\n",
    "lambda_hi = 0\n",
    "for l in numpy.linspace(1e-10, lambda_best):\n",
    "    if poisson_nll_simple(l, df['distance'], df['n_coins']) > nll_at_best + delta_nll:\n",
    "        lambda_lo = l\n",
    "    if poisson_nll_simple(2*lambda_best - l, df['distance'], df['n_coins']) > nll_at_best + delta_nll:\n",
    "        lambda_hi = 2*lambda_best - l\n",
    "\n",
    "print('Confidence interval: ({}, {})'.format(lambda_lo, lambda_hi))\n",
    "print('Cents per mile: {} +{}/-{}'.format(lambda_best, lambda_hi - lambda_best, lambda_best - lambda_lo))\n"
   ]
  },
  {
   "cell_type": "markdown",
   "metadata": {},
   "source": [
    "What happens on a typical run?"
   ]
  },
  {
   "cell_type": "code",
   "execution_count": 14,
   "metadata": {},
   "outputs": [
    {
     "name": "stdout",
     "output_type": "stream",
     "text": [
      "Find 0 coins 44.5%\n",
      "Find 1 coins 36.0%\n",
      "Find 2 coins 14.6%\n",
      "Find more than 2 coins 4.9%\n",
      "\n",
      "On low end of CI, find 0 coins 58.9%\n"
     ]
    }
   ],
   "source": [
    "RUN_LENGTH = 4  # miles\n",
    "COIN_MAX = 2\n",
    "dist = stats.poisson(RUN_LENGTH * lambda_best)\n",
    "for i in range(COIN_MAX + 1):\n",
    "    print('Find {} coins {:0.1f}%'.format(i, 100*dist.pmf(i)))\n",
    "print('Find more than {} coins {:0.1f}%'.format(COIN_MAX, 100 * (1 - dist.cdf(COIN_MAX))))\n",
    "print('')\n",
    "print('On low end of CI, find 0 coins {:0.1f}%'.format(100*stats.poisson(RUN_LENGTH * lambda_lo).pmf(0)))"
   ]
  },
  {
   "cell_type": "markdown",
   "metadata": {},
   "source": [
    "Draw a histogram"
   ]
  },
  {
   "cell_type": "code",
   "execution_count": 15,
   "metadata": {},
   "outputs": [
    {
     "data": {
      "text/plain": [
       "<matplotlib.text.Text at 0x107f199b0>"
      ]
     },
     "execution_count": 15,
     "metadata": {},
     "output_type": "execute_result"
    },
    {
     "data": {
      "image/png": "[encoded data removed]",
      "text/plain": [
       "<matplotlib.figure.Figure at 0x107fe30f0>"
      ]
     },
     "metadata": {},
     "output_type": "display_data"
    }
   ],
   "source": [
    "pmf_x = [0]\n",
    "pmf_y = [0]\n",
    "for i in range(6):\n",
    "    pmf_x.extend([i, i + 1])\n",
    "    p = dist.pmf(i)\n",
    "    pmf_y.extend([p, p])\n",
    "pmf_x.append(i + 1)\n",
    "pmf_y.append(0)\n",
    "plt.plot(pmf_x, pmf_y)\n",
    "plt.xlabel('coins found')\n",
    "plt.ylabel('probability')"
   ]
  },
  {
   "cell_type": "markdown",
   "metadata": {},
   "source": [
    "Simulate to see if the Poisson model is close to reality. Sample from the distances I actually ran and Poisson select a number of coins thousands of times. Plot cumulative histograms of coins normalized for distance."
   ]
  },
  {
   "cell_type": "code",
   "execution_count": 16,
   "metadata": {},
   "outputs": [
    {
     "data": {
      "text/plain": [
       "<matplotlib.axes._subplots.AxesSubplot at 0x1080c8908>"
      ]
     },
     "execution_count": 16,
     "metadata": {},
     "output_type": "execute_result"
    },
    {
     "data": {
      "image/png": "[encoded data removed]",
      "text/plain": [
       "<matplotlib.figure.Figure at 0x108180470>"
      ]
     },
     "metadata": {},
     "output_type": "display_data"
    }
   ],
   "source": [
    "N_SIM = 10000\n",
    "sim_distances = numpy.random.choice(df['distance'], N_SIM)\n",
    "sim_coins = [numpy.random.poisson(lambda_best * d) for d in sim_distances]\n",
    "sim_df = pandas.DataFrame({'distance': sim_distances, 'n_coins': sim_coins})\n",
    "\n",
    "(sim_df['n_coins'] / sim_df['distance']).hist(cumulative=True, normed=True, bins=6, alpha=0.5)\n",
    "(df['n_coins'] / df['distance']).hist(cumulative=True, normed=True, bins=6, alpha=0.5)\n"
   ]
  },
  {
   "cell_type": "markdown",
   "metadata": {},
   "source": [
    "Extrapolate out to a year"
   ]
  },
  {
   "cell_type": "code",
   "execution_count": 17,
   "metadata": {},
   "outputs": [
    {
     "name": "stdout",
     "output_type": "stream",
     "text": [
      "in a year of 2000 miles, find 405 coins on average\n",
      "on average, make $12.29\n"
     ]
    }
   ],
   "source": [
    "MILES_PER_YEAR = 2000\n",
    "n_coins_year = int(lambda_best * MILES_PER_YEAR)\n",
    "print('in a year of {} miles, find {} coins on average'.format(MILES_PER_YEAR, n_coins_year))\n",
    "print('on average, make ${:0.2f}'.format(n_coins_year*df['money'].mean()))"
   ]
  },
  {
   "cell_type": "markdown",
   "metadata": {},
   "source": [
    "For curiosity, do a linear fit and see how that looks. Constrain y-intercept to 0, since we don't get free money walking out the door (alas)."
   ]
  },
  {
   "cell_type": "code",
   "execution_count": 18,
   "metadata": {},
   "outputs": [
    {
     "data": {
      "text/plain": [
       "<matplotlib.text.Text at 0x1082dc4a8>"
      ]
     },
     "execution_count": 18,
     "metadata": {},
     "output_type": "execute_result"
    },
    {
     "data": {
      "image/png": "[encoded data removed]",
      "text/plain": [
       "<matplotlib.figure.Figure at 0x107f3feb8>"
      ]
     },
     "metadata": {},
     "output_type": "display_data"
    }
   ],
   "source": [
    "df = df.sort_values('distance')\n",
    "plt.plot(df['distance'], df['money'], 'k+')\n",
    "plt.xlabel('distance [mi]')\n",
    "plt.ylabel('change found [$]')"
   ]
  },
  {
   "cell_type": "code",
   "execution_count": 19,
   "metadata": {
    "collapsed": true
   },
   "outputs": [],
   "source": [
    "def linear(x, a0):\n",
    "    return 0 + a0*x"
   ]
  },
  {
   "cell_type": "code",
   "execution_count": 20,
   "metadata": {
    "collapsed": true
   },
   "outputs": [],
   "source": [
    "a, cov = optimize.curve_fit(linear, df['distance'], df['money'])"
   ]
  },
  {
   "cell_type": "markdown",
   "metadata": {},
   "source": [
    "95% confidence intervals on parameters"
   ]
  },
  {
   "cell_type": "code",
   "execution_count": 21,
   "metadata": {
    "collapsed": true
   },
   "outputs": [],
   "source": [
    "a_err = [1.96 * math.sqrt(cov[i][i]) for i in range(len(a))]"
   ]
  },
  {
   "cell_type": "code",
   "execution_count": 22,
   "metadata": {},
   "outputs": [
    {
     "name": "stdout",
     "output_type": "stream",
     "text": [
      "Best estimate: (0.0077 ± 0.0056)x\n"
     ]
    }
   ],
   "source": [
    "print('Best estimate: ({a[0]:.4f} ± {a_err[0]:.4f})x'.format(a=a, a_err=a_err))"
   ]
  },
  {
   "cell_type": "code",
   "execution_count": 23,
   "metadata": {},
   "outputs": [
    {
     "data": {
      "text/plain": [
       "<matplotlib.text.Text at 0x10809dbe0>"
      ]
     },
     "execution_count": 23,
     "metadata": {},
     "output_type": "execute_result"
    },
    {
     "data": {
      "image/png": "[encoded data removed]",
      "text/plain": [
       "<matplotlib.figure.Figure at 0x108382630>"
      ]
     },
     "metadata": {},
     "output_type": "display_data"
    }
   ],
   "source": [
    "x = numpy.linspace(0, 1.1*df['distance'].max())\n",
    "y = 0 + a[0]*x\n",
    "plt.plot(df['distance'], df['money'], 'k+')\n",
    "plt.plot(x, y, 'b-')\n",
    "plt.xlabel('distance [mi]')\n",
    "plt.ylabel('change found [$]')"
   ]
  }
 ],
 "metadata": {
  "kernelspec": {
   "display_name": "Python 3",
   "language": "python",
   "name": "python3"
  },
  "language_info": {
   "codemirror_mode": {
    "name": "ipython",
    "version": 3
   },
   "file_extension": ".py",
   "mimetype": "text/x-python",
   "name": "python",
   "nbconvert_exporter": "python",
   "pygments_lexer": "ipython3",
   "version": "3.6.1"
  }
 },
 "nbformat": 4,
 "nbformat_minor": 2
}
